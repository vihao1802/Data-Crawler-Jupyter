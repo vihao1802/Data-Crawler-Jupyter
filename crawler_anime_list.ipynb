{
 "cells": [
  {
   "cell_type": "code",
   "execution_count": 61,
   "metadata": {},
   "outputs": [],
   "source": [
    "import requests\n",
    "from bs4 import BeautifulSoup\n",
    "import csv\n",
    "import json"
   ]
  },
  {
   "cell_type": "code",
   "execution_count": 62,
   "metadata": {},
   "outputs": [],
   "source": [
    "main_url = \"https://myanimelist.net/topanime.php\""
   ]
  },
  {
   "cell_type": "code",
   "execution_count": 63,
   "metadata": {},
   "outputs": [],
   "source": [
    "urls = []"
   ]
  },
  {
   "cell_type": "markdown",
   "metadata": {},
   "source": [
    "Get all urls of anime"
   ]
  },
  {
   "cell_type": "code",
   "execution_count": 64,
   "metadata": {},
   "outputs": [],
   "source": [
    "def get_urls(l):\n",
    "    try:\n",
    "        response = requests.get(l)\n",
    "        soup = BeautifulSoup(response.content,\"html.parser\")\n",
    "        links = soup.select(\".anime_ranking_h3 .hoverinfo_trigger\")\n",
    "\n",
    "        for link in links:\n",
    "            urls.append(link[\"href\"])\n",
    "\n",
    "        # next page\n",
    "        url_next = main_url + soup.select_one(\".pagination .next\")[\"href\"]\n",
    "        # print(url_next)\n",
    "        get_urls(url_next)\n",
    "    except:\n",
    "        print(\"Out of page\")"
   ]
  },
  {
   "cell_type": "markdown",
   "metadata": {},
   "source": [
    "Run get_urls() function"
   ]
  },
  {
   "cell_type": "code",
   "execution_count": 65,
   "metadata": {},
   "outputs": [
    {
     "name": "stdout",
     "output_type": "stream",
     "text": [
      "Out of page\n"
     ]
    }
   ],
   "source": [
    "get_urls(main_url)"
   ]
  },
  {
   "cell_type": "markdown",
   "metadata": {},
   "source": [
    "Write urls anime to json file"
   ]
  },
  {
   "cell_type": "code",
   "execution_count": 66,
   "metadata": {},
   "outputs": [],
   "source": [
    "# with open(\"animes_urls.json\",\"w\") as f:\n",
    "#     json.dump(urls,f,indent=4)"
   ]
  },
  {
   "cell_type": "markdown",
   "metadata": {},
   "source": [
    "Init animes array"
   ]
  },
  {
   "cell_type": "code",
   "execution_count": 75,
   "metadata": {},
   "outputs": [],
   "source": [
    "animes = []"
   ]
  },
  {
   "cell_type": "markdown",
   "metadata": {},
   "source": [
    "Get all anime detail from urls"
   ]
  },
  {
   "cell_type": "code",
   "execution_count": null,
   "metadata": {},
   "outputs": [],
   "source": [
    "headers = {\n",
    "    'User-Agent': 'Mozilla/5.0 (Windows NT 10.0; Win64; x64) AppleWebKit/537.36 (KHTML, like Gecko) Chrome/91.0.4472.124 Safari/537.36'\n",
    "}\n",
    "\n",
    "\n",
    "for id,url in enumerate(urls):\n",
    "    try:\n",
    "        response = requests.get(url, headers=headers, timeout=10) \n",
    "        response.raise_for_status()\n",
    "        if response.status_code == 200:\n",
    "            soup = BeautifulSoup(response.content,\"html.parser\")\n",
    "\n",
    "            anime = {}\n",
    "            anime[\"id\"] = id + 1\n",
    "            anime[\"url\"] = url\n",
    "            \n",
    "            title_element = soup.select_one(\".title-name\")\n",
    "            if title_element:\n",
    "                anime[\"title\"] = title_element.text\n",
    "            else:\n",
    "                anime[\"title\"] = \"N/A\"  # or some default value\n",
    "\n",
    "            image_element = soup.select_one(\".lazyload\")\n",
    "            if image_element and \"data-src\" in image_element.attrs:\n",
    "                anime[\"image\"] = image_element[\"data-src\"]\n",
    "            else:\n",
    "                anime[\"image\"] = \"N/A\"  # or some default value\n",
    "\n",
    "            for info in soup.select(\".leftside .spaceit_pad\"):\n",
    "                key = value = \"\"\n",
    "                if info.select_one(\".dark_text\"):\n",
    "                    key = info.select_one(\".dark_text\").text.replace(\":\",\"\")\n",
    "                    value = info.text.replace(info.select_one(\".dark_text\").text,\"\").replace('\"', '\\\\\"').strip()\n",
    "                else:\n",
    "                    key = \"None\"\n",
    "                    value = \"None\"\n",
    "                \n",
    "                anime[key] = value\n",
    "            print(anime)\n",
    "            animes.append(anime)\n",
    "    except requests.exceptions.Timeout:\n",
    "        print(f\"Error at {url} detail: Request timed out\")\n",
    "    except requests.exceptions.RequestException as e:\n",
    "        print(f\"Error at {url} detail: {e}\")\n",
    "    except Exception as error:\n",
    "        print(f\"Error at {url} detail: {error}\")"
   ]
  },
  {
   "cell_type": "code",
   "execution_count": null,
   "metadata": {},
   "outputs": [],
   "source": [
    "# fields = [key for key,value in animes[0].items()]\n",
    "# print(fields)\n",
    "# # write csv\n",
    "# with open(\"animes.csv\", \"w\", encoding=\"utf-8\", newline='') as f:\n",
    "#     writer = csv.DictWriter(f, fieldnames=fields)\n",
    "#     writer.writeheader()\n",
    "#     writer.writerows(animes)"
   ]
  },
  {
   "cell_type": "code",
   "execution_count": 78,
   "metadata": {},
   "outputs": [],
   "source": [
    "with open(\"animes.json\",\"w\") as f:\n",
    "    json.dump(animes,f,indent=4)"
   ]
  }
 ],
 "metadata": {
  "kernelspec": {
   "display_name": ".venv",
   "language": "python",
   "name": "python3"
  },
  "language_info": {
   "codemirror_mode": {
    "name": "ipython",
    "version": 3
   },
   "file_extension": ".py",
   "mimetype": "text/x-python",
   "name": "python",
   "nbconvert_exporter": "python",
   "pygments_lexer": "ipython3",
   "version": "3.12.1"
  }
 },
 "nbformat": 4,
 "nbformat_minor": 2
}
