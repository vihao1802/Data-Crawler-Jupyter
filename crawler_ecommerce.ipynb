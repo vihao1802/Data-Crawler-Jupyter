{
 "cells": [
  {
   "cell_type": "markdown",
   "metadata": {},
   "source": [
    "#### Ecommerce Test Site to Learn Web Scraping\n",
    "- ScrapingCourse.com\n",
    "- Src: https://www.scrapingcourse.com/ecommerce/"
   ]
  },
  {
   "cell_type": "code",
   "execution_count": 27,
   "metadata": {},
   "outputs": [],
   "source": [
    "import csv\n",
    "import requests\n",
    "from bs4 import BeautifulSoup\n",
    "import json"
   ]
  },
  {
   "cell_type": "code",
   "execution_count": 6,
   "metadata": {},
   "outputs": [],
   "source": [
    "# find all urls products detail in page\n",
    "urls = []\n",
    "for i in range(1, 13):\n",
    "    response = requests.get(f\"https://www.scrapingcourse.com/ecommerce/page/{i}/\")\n",
    "\n",
    "    if response.status_code == 200:\n",
    "        soup = BeautifulSoup(response.content, \"html.parser\")\n",
    "        links = soup.select(\"a.woocommerce-loop-product__link\")\n",
    "        # print(\"Page \", i, \" : \", len(links))\n",
    "\n",
    "        for link in links:\n",
    "            urls.append(link[\"href\"])\n",
    "            # print(link[\"href\"])"
   ]
  },
  {
   "cell_type": "code",
   "execution_count": 32,
   "metadata": {},
   "outputs": [],
   "source": [
    "# find product detail\n",
    "products = []\n",
    "\n",
    "for id,url in enumerate(urls):\n",
    "    response = requests.get(url)\n",
    "    if response.status_code == 200:\n",
    "        soup = BeautifulSoup(response.content,\"html.parser\")\n",
    "\n",
    "        # create product object\n",
    "        product = {}\n",
    "        product[\"id\"] = id + 1\n",
    "        product[\"url\"] = url\n",
    "        product[\"title\"] = soup.select_one(\".product_title\").text.replace('\"', '\\\\\"')\n",
    "        product[\"price\"] = soup.select_one(\".entry-summary .woocommerce-Price-amount\").text\n",
    "        product[\"image\"] = soup.select_one(\".wp-post-image\")[\"src\"]\n",
    "\n",
    "        # check size text exist\n",
    "        if soup.select_one(\".woocommerce-product-attributes-item--attribute_size .woocommerce-product-attributes-item__value\"):\n",
    "            product[\"size\"] = soup.select_one(\".woocommerce-product-attributes-item--attribute_size .woocommerce-product-attributes-item__value\").text\n",
    "        else:\n",
    "            product[\"size\"] = \"No size\"\n",
    "\n",
    "        # check color text exist\n",
    "        if soup.select_one(\".woocommerce-product-attributes-item--attribute_color .woocommerce-product-attributes-item__value\"):\n",
    "            product[\"size\"] = product[\"color\"] = soup.select_one(\".woocommerce-product-attributes-item--attribute_color .woocommerce-product-attributes-item__value\").text\n",
    "        else:\n",
    "            product[\"color\"] = \"No color\"\n",
    "\n",
    "        product[\"description\"] = soup.select_one(\".woocommerce-Tabs-panel--description p\").text\n",
    "        # print(product)\n",
    "        products.append(product)"
   ]
  },
  {
   "cell_type": "code",
   "execution_count": 44,
   "metadata": {},
   "outputs": [],
   "source": [
    "# field names\n",
    "fields = ['id', 'url', 'title', 'price','image','size','color','description']\n",
    "\n",
    "# initialize the CSV output file\n",
    "with open(\"products.csv\", \"w\") as csv_file:\n",
    "    # creating a csv dict writer object\n",
    "    writer = csv.DictWriter(csv_file,fieldnames=fields)\n",
    "\n",
    "    # writing headers (field names)\n",
    "    writer.writeheader()\n",
    "\n",
    "    # writing data rows\n",
    "    writer.writerows(products)"
   ]
  },
  {
   "cell_type": "code",
   "execution_count": 42,
   "metadata": {},
   "outputs": [],
   "source": [
    "with open(\"data/products.json\",\"w\") as f:\n",
    "    json.dump(products,f,indent=4)"
   ]
  }
 ],
 "metadata": {
  "kernelspec": {
   "display_name": ".venv",
   "language": "python",
   "name": "python3"
  },
  "language_info": {
   "codemirror_mode": {
    "name": "ipython",
    "version": 3
   },
   "file_extension": ".py",
   "mimetype": "text/x-python",
   "name": "python",
   "nbconvert_exporter": "python",
   "pygments_lexer": "ipython3",
   "version": "3.12.1"
  }
 },
 "nbformat": 4,
 "nbformat_minor": 2
}
